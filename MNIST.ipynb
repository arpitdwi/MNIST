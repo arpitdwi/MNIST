{
  "nbformat": 4,
  "nbformat_minor": 0,
  "metadata": {
    "colab": {
      "name": "MNIST.ipynb",
      "provenance": [],
      "collapsed_sections": []
    },
    "kernelspec": {
      "name": "python3",
      "display_name": "Python 3"
    },
    "accelerator": "GPU"
  },
  "cells": [
    {
      "cell_type": "code",
      "metadata": {
        "id": "lZt1qCZFHukd",
        "colab_type": "code",
        "colab": {}
      },
      "source": [
        "#*********EDIT:- I apologise for misinterpreting validation accuracy as training accuracy in the Internshala questionnaire\n",
        "# I have achieved validation accuracy of 98% with 7570 parameters*******************\n",
        "# I have implemented early stopping in this notebook.\n",
        "# If we continue training for upto 50 epochs, the training accuracy reaches 99.5% while the validation error is lesser indicating overfitting."
      ],
      "execution_count": 0,
      "outputs": []
    },
    {
      "cell_type": "code",
      "metadata": {
        "id": "5Q-vnnlRb8Y2",
        "colab_type": "code",
        "outputId": "049874d3-9b7e-45e2-9429-f90cc0195a91",
        "colab": {
          "base_uri": "https://localhost:8080/",
          "height": 35
        }
      },
      "source": [
        "%tensorflow_version 1.x"
      ],
      "execution_count": 0,
      "outputs": [
        {
          "output_type": "stream",
          "text": [
            "TensorFlow 1.x selected.\n"
          ],
          "name": "stdout"
        }
      ]
    },
    {
      "cell_type": "code",
      "metadata": {
        "id": "4LkiZ_qYCTim",
        "colab_type": "code",
        "outputId": "8d6791f6-1479-4c2e-8232-febd2b29cc99",
        "colab": {
          "base_uri": "https://localhost:8080/",
          "height": 35
        }
      },
      "source": [
        "import keras\n",
        "from keras.models import Sequential\n",
        "from keras.utils import np_utils\n",
        "from keras.layers import Dense, Activation, Flatten, Dropout, BatchNormalization\n",
        "from keras.layers import Conv2D, MaxPooling2D\n",
        "from keras.callbacks import EarlyStopping\n",
        "from keras.preprocessing.image import ImageDataGenerator\n",
        "from keras.datasets import mnist\n",
        "from keras import regularizers\n",
        "from sklearn.model_selection import train_test_split\n",
        "import numpy as np\n",
        "random_seed = 2\n",
        "np.random.seed(random_seed)"
      ],
      "execution_count": 0,
      "outputs": [
        {
          "output_type": "stream",
          "text": [
            "Using TensorFlow backend.\n"
          ],
          "name": "stderr"
        }
      ]
    },
    {
      "cell_type": "code",
      "metadata": {
        "id": "c1FpfAPFCWoX",
        "colab_type": "code",
        "colab": {}
      },
      "source": [
        "(X_train, y_train), (X_test, y_test) = mnist.load_data() #load the data "
      ],
      "execution_count": 0,
      "outputs": []
    },
    {
      "cell_type": "code",
      "metadata": {
        "id": "_mxBeoJVCoA5",
        "colab_type": "code",
        "outputId": "8560566a-abeb-4b5b-b08e-258a539450c1",
        "colab": {
          "base_uri": "https://localhost:8080/",
          "height": 45
        }
      },
      "source": [
        "import matplotlib.pyplot as plt\n",
        "from google.colab.patches import cv2_imshow\n",
        "import cv2\n",
        "cv2_imshow(X_train[0]) #show the first image in the training dataset"
      ],
      "execution_count": 0,
      "outputs": [
        {
          "output_type": "display_data",
          "data": {
            "image/png": "[encoded data removed]",
            "text/plain": [
              "<PIL.Image.Image image mode=L size=28x28 at 0x7FBB3A7E2128>"
            ]
          },
          "metadata": {
            "tags": []
          }
        }
      ]
    },
    {
      "cell_type": "code",
      "metadata": {
        "id": "xwchzc_ZHvHu",
        "colab_type": "code",
        "colab": {}
      },
      "source": [
        "X_train = X_train.astype('float32')\n",
        "X_test = X_test.astype('float32')"
      ],
      "execution_count": 0,
      "outputs": []
    },
    {
      "cell_type": "code",
      "metadata": {
        "id": "s8y2JuDlGIpb",
        "colab_type": "code",
        "colab": {}
      },
      "source": [
        "#resizing\n",
        "X_train = X_train.reshape(-1, 28, 28, 1)\n",
        "X_test = X_test.reshape(-1, 28, 28, 1)"
      ],
      "execution_count": 0,
      "outputs": []
    },
    {
      "cell_type": "code",
      "metadata": {
        "id": "2eLABsTuXmIj",
        "colab_type": "code",
        "colab": {}
      },
      "source": [
        "#normalization\n",
        "X_train = X_train/255;\n",
        "X_test = X_test/255;"
      ],
      "execution_count": 0,
      "outputs": []
    },
    {
      "cell_type": "code",
      "metadata": {
        "id": "XTk8BjQ1Rzgn",
        "colab_type": "code",
        "colab": {}
      },
      "source": [
        "X_train, X_val, y_train, y_val = train_test_split(X_train, y_train, test_size = 0.1, random_state=random_seed)"
      ],
      "execution_count": 0,
      "outputs": []
    },
    {
      "cell_type": "code",
      "metadata": {
        "id": "fsP9uR3wYT2q",
        "colab_type": "code",
        "colab": {}
      },
      "source": [
        "#build the model\n",
        "model = Sequential()\n",
        "model.add(Conv2D(6, kernel_size=(7,7), input_shape=(28,28,1), activation='relu'))\n",
        "model.add(MaxPooling2D(pool_size=(2, 2)))\n",
        "model.add(Flatten())\n",
        "model.add(Dense(10,activation='softmax'))"
      ],
      "execution_count": 0,
      "outputs": []
    },
    {
      "cell_type": "code",
      "metadata": {
        "id": "1gF3uK6DaXnI",
        "colab_type": "code",
        "outputId": "3cbbeb45-527d-4af9-b907-14fb0ebd4228",
        "colab": {
          "base_uri": "https://localhost:8080/",
          "height": 295
        }
      },
      "source": [
        "model.summary() #details of the model"
      ],
      "execution_count": 0,
      "outputs": [
        {
          "output_type": "stream",
          "text": [
            "Model: \"sequential_3\"\n",
            "_________________________________________________________________\n",
            "Layer (type)                 Output Shape              Param #   \n",
            "=================================================================\n",
            "conv2d_3 (Conv2D)            (None, 22, 22, 6)         300       \n",
            "_________________________________________________________________\n",
            "max_pooling2d_3 (MaxPooling2 (None, 11, 11, 6)         0         \n",
            "_________________________________________________________________\n",
            "flatten_3 (Flatten)          (None, 726)               0         \n",
            "_________________________________________________________________\n",
            "dense_3 (Dense)              (None, 10)                7270      \n",
            "=================================================================\n",
            "Total params: 7,570\n",
            "Trainable params: 7,570\n",
            "Non-trainable params: 0\n",
            "_________________________________________________________________\n"
          ],
          "name": "stdout"
        }
      ]
    },
    {
      "cell_type": "code",
      "metadata": {
        "colab_type": "code",
        "id": "9BzdRfrEqNWb",
        "colab": {}
      },
      "source": [
        "es = EarlyStopping(monitor='val_acc', mode='max', verbose=1)"
      ],
      "execution_count": 0,
      "outputs": []
    },
    {
      "cell_type": "code",
      "metadata": {
        "id": "DdWJTvBoSbUX",
        "colab_type": "code",
        "colab": {}
      },
      "source": [
        "model.compile(optimizer='adam', \n",
        "              loss='sparse_categorical_crossentropy', \n",
        "              metrics=['accuracy'])"
      ],
      "execution_count": 0,
      "outputs": []
    },
    {
      "cell_type": "code",
      "metadata": {
        "id": "rQDMPMPOcedz",
        "colab_type": "code",
        "outputId": "b4531e57-9824-44b7-bb85-a497c1172156",
        "colab": {
          "base_uri": "https://localhost:8080/",
          "height": 277
        }
      },
      "source": [
        "model.fit(x=X_train,y=y_train, validation_data = (X_val,y_val), epochs=50, callbacks=[es])\n",
        "# If we add more parameters the accuracy will be much better\n",
        "# Early stopping only allows 6 epochs\n",
        "# Validation accuracy is nearly 98%"
      ],
      "execution_count": 0,
      "outputs": [
        {
          "output_type": "stream",
          "text": [
            "Train on 54000 samples, validate on 6000 samples\n",
            "Epoch 1/50\n",
            "54000/54000 [==============================] - 5s 98us/step - loss: 0.3269 - acc: 0.9061 - val_loss: 0.1599 - val_acc: 0.9518\n",
            "Epoch 2/50\n",
            "54000/54000 [==============================] - 5s 92us/step - loss: 0.1146 - acc: 0.9668 - val_loss: 0.1080 - val_acc: 0.9688\n",
            "Epoch 3/50\n",
            "54000/54000 [==============================] - 5s 93us/step - loss: 0.0822 - acc: 0.9761 - val_loss: 0.0788 - val_acc: 0.9757\n",
            "Epoch 4/50\n",
            "54000/54000 [==============================] - 5s 92us/step - loss: 0.0697 - acc: 0.9791 - val_loss: 0.0754 - val_acc: 0.9783\n",
            "Epoch 5/50\n",
            "54000/54000 [==============================] - 5s 92us/step - loss: 0.0602 - acc: 0.9814 - val_loss: 0.0673 - val_acc: 0.9798\n",
            "Epoch 6/50\n",
            "54000/54000 [==============================] - 5s 95us/step - loss: 0.0547 - acc: 0.9835 - val_loss: 0.0655 - val_acc: 0.9792\n",
            "Epoch 00006: early stopping\n"
          ],
          "name": "stdout"
        },
        {
          "output_type": "execute_result",
          "data": {
            "text/plain": [
              "<keras.callbacks.History at 0x7f86f9cc7c18>"
            ]
          },
          "metadata": {
            "tags": []
          },
          "execution_count": 19
        }
      ]
    },
    {
      "cell_type": "code",
      "metadata": {
        "id": "2oaQmxP453UU",
        "colab_type": "code",
        "colab": {}
      },
      "source": [
        "#try data augmentation\n",
        "datagen = ImageDataGenerator(\n",
        "        zca_whitening=False, \n",
        "        rotation_range=10,  \n",
        "        zoom_range = 0.1, \n",
        "        width_shift_range=0.1,  \n",
        "        height_shift_range=0.1, \n",
        "        horizontal_flip=False, \n",
        "        vertical_flip=False) \n",
        "datagen.fit(X_train)"
      ],
      "execution_count": 0,
      "outputs": []
    },
    {
      "cell_type": "code",
      "metadata": {
        "id": "VEFSOuwhR35X",
        "colab_type": "code",
        "outputId": "c2cff128-fb0d-4acb-8187-ecde8c1a3dd3",
        "colab": {
          "base_uri": "https://localhost:8080/",
          "height": 312
        }
      },
      "source": [
        "history = model.fit_generator(datagen.flow(X_train,y_train, batch_size=32),\n",
        "                              epochs = 50, validation_data = (X_val,y_val),\n",
        "                              verbose = 2, steps_per_epoch=X_train.shape[0] // 32,\n",
        "                               callbacks=[es])\n",
        "#even data augmentation gives about 97.5% validation accuracy"
      ],
      "execution_count": 0,
      "outputs": [
        {
          "output_type": "stream",
          "text": [
            "Epoch 1/50\n",
            " - 16s - loss: 0.5861 - acc: 0.8218 - val_loss: 0.1620 - val_acc: 0.9527\n",
            "Epoch 2/50\n",
            " - 16s - loss: 0.2831 - acc: 0.9165 - val_loss: 0.1226 - val_acc: 0.9678\n",
            "Epoch 3/50\n",
            " - 16s - loss: 0.2304 - acc: 0.9329 - val_loss: 0.1029 - val_acc: 0.9680\n",
            "Epoch 4/50\n",
            " - 15s - loss: 0.2082 - acc: 0.9387 - val_loss: 0.1029 - val_acc: 0.9683\n",
            "Epoch 5/50\n",
            " - 16s - loss: 0.1906 - acc: 0.9441 - val_loss: 0.0989 - val_acc: 0.9705\n",
            "Epoch 6/50\n",
            " - 16s - loss: 0.1816 - acc: 0.9461 - val_loss: 0.0869 - val_acc: 0.9733\n",
            "Epoch 7/50\n",
            " - 16s - loss: 0.1745 - acc: 0.9493 - val_loss: 0.0814 - val_acc: 0.9750\n",
            "Epoch 8/50\n",
            " - 16s - loss: 0.1671 - acc: 0.9507 - val_loss: 0.0831 - val_acc: 0.9742\n",
            "Epoch 00008: early stopping\n"
          ],
          "name": "stdout"
        }
      ]
    },
    {
      "cell_type": "code",
      "metadata": {
        "id": "LEU7C_w1VR4n",
        "colab_type": "code",
        "colab": {}
      },
      "source": [
        "\n"
      ],
      "execution_count": 0,
      "outputs": []
    }
  ]
}